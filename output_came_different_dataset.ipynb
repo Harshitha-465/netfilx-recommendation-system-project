{
 "cells": [
  {
   "cell_type": "code",
   "execution_count": 13,
   "id": "dee64af5-13a4-470d-8c8e-bfe766e4322a",
   "metadata": {},
   "outputs": [
    {
     "data": {
      "text/plain": [
       "Index(['Unnamed: 0', 'recommendation_id', 'user_id', 'movie_id',\n",
       "       'recommendation_date', 'recommendation_type', 'recommendation_score',\n",
       "       'was_clicked', 'position_in_list', 'device_type', 'time_of_day',\n",
       "       'algorithm_version', 'title', 'content_type', 'genre_primary',\n",
       "       'genre_secondary', 'release_year', 'duration_minutes', 'rating_x',\n",
       "       'language', 'country_of_origin', 'imdb_rating', 'production_budget',\n",
       "       'box_office_revenue', 'number_of_seasons', 'number_of_episodes',\n",
       "       'is_netflix_original', 'added_to_platform', 'content_warning', 'email',\n",
       "       'first_name', 'last_name', 'age', 'gender', 'country', 'state_province',\n",
       "       'city', 'subscription_plan', 'subscription_start_date', 'is_active',\n",
       "       'monthly_spend', 'primary_device', 'household_size', 'created_at',\n",
       "       'progress_percentage', 'watch_duration_minutes', 'rating_y',\n",
       "       'sentiment_score'],\n",
       "      dtype='object')"
      ]
     },
     "execution_count": 13,
     "metadata": {},
     "output_type": "execute_result"
    }
   ],
   "source": [
    "import pandas as pd\n",
    "df=pd.read_csv(\"netflix.csv\")\n",
    "df.columns"
   ]
  },
  {
   "cell_type": "code",
   "execution_count": 14,
   "id": "f03885bc-2db5-4128-9aa0-b2993989262c",
   "metadata": {},
   "outputs": [
    {
     "name": "stderr",
     "output_type": "stream",
     "text": [
      "C:\\Users\\jayan\\AppData\\Local\\Temp\\ipykernel_8596\\2511253848.py:1: FutureWarning: A value is trying to be set on a copy of a DataFrame or Series through chained assignment using an inplace method.\n",
      "The behavior will change in pandas 3.0. This inplace method will never work because the intermediate object on which we are setting values always behaves as a copy.\n",
      "\n",
      "For example, when doing 'df[col].method(value, inplace=True)', try using 'df.method({col: value}, inplace=True)' or df[col] = df[col].method(value) instead, to perform the operation inplace on the original object.\n",
      "\n",
      "\n",
      "  df['imdb_rating'].fillna(df['imdb_rating'].median(),inplace=True)\n"
     ]
    }
   ],
   "source": [
    "df['imdb_rating'].fillna(df['imdb_rating'].median(),inplace=True)"
   ]
  },
  {
   "cell_type": "code",
   "execution_count": 11,
   "id": "6acd91b8-571b-42bb-b7eb-b9515d43fb9b",
   "metadata": {},
   "outputs": [],
   "source": [
    "df.drop(columns=['added_to_platform','country','city','country_of_origin'],axis=1,inplace=True)"
   ]
  },
  {
   "cell_type": "code",
   "execution_count": 15,
   "id": "0a18f71e-f471-433d-b4a5-b4c0f6edc83f",
   "metadata": {},
   "outputs": [],
   "source": [
    "df.drop(columns=['device_type','time_of_day','algorithm_version','genre_secondary','production_budget','recommendation_date',\n",
    "    'box_office_revenue','number_of_seasons','number_of_episodes','email', 'first_name','last_name','age','gender','state_province',\n",
    "    'subscription_plan', 'subscription_start_date', 'is_active',\n",
    "       'monthly_spend', 'primary_device', 'household_size', 'created_at','progress_percentage', 'watch_duration_minutes', 'rating_y',\n",
    "       'sentiment_score'],axis=1,inplace=True)"
   ]
  },
  {
   "cell_type": "code",
   "execution_count": 18,
   "id": "2f4f9cec-b532-450f-8b10-c9a30c317458",
   "metadata": {},
   "outputs": [
    {
     "name": "stderr",
     "output_type": "stream",
     "text": [
      "C:\\Users\\jayan\\AppData\\Local\\Temp\\ipykernel_8596\\3658153185.py:1: FutureWarning: A value is trying to be set on a copy of a DataFrame or Series through chained assignment using an inplace method.\n",
      "The behavior will change in pandas 3.0. This inplace method will never work because the intermediate object on which we are setting values always behaves as a copy.\n",
      "\n",
      "For example, when doing 'df[col].method(value, inplace=True)', try using 'df.method({col: value}, inplace=True)' or df[col] = df[col].method(value) instead, to perform the operation inplace on the original object.\n",
      "\n",
      "\n",
      "  df['recommendation_score'].fillna(df['recommendation_score'].median(),inplace=True)\n"
     ]
    }
   ],
   "source": [
    "df['recommendation_score'].fillna(df['recommendation_score'].median(),inplace=True)"
   ]
  },
  {
   "cell_type": "code",
   "execution_count": 19,
   "id": "ab8db301-9574-49be-a8a3-4e540b00eb44",
   "metadata": {},
   "outputs": [],
   "source": [
    "df.drop_duplicates(inplace=True)"
   ]
  },
  {
   "cell_type": "code",
   "execution_count": 20,
   "id": "b4a3f61d-38a0-4c76-bd22-cb72f733469d",
   "metadata": {},
   "outputs": [],
   "source": [
    "from sklearn.preprocessing import LabelEncoder\n",
    "\n",
    "# Store the original string user_id before you encode it.\n",
    "# This is useful for the recommendation function later.\n",
    "df['user_id_raw'] = df['user_id']\n",
    "\n",
    "# Create a dictionary to hold a separate encoder for each column\n",
    "encoders = {}\n",
    "\n",
    "# List of all the columns you want to label encode\n",
    "categorical_cols = ['recommendation_id', 'user_id', 'movie_id', 'recommendation_type', 'content_type', 'genre_primary', 'rating_x', 'language']\n",
    "\n",
    "# This loop creates a new encoder for each column, fits it,\n",
    "# transforms the column, and saves the encoder in the dictionary.\n",
    "for col in categorical_cols:\n",
    "    le = LabelEncoder()\n",
    "    df[col] = le.fit_transform(df[col].astype(str))\n",
    "    encoders[col] = le # Store the fitted encoder for later use\n",
    "\n",
    "# Convert boolean columns to integers (0 or 1)\n",
    "df['was_clicked'] = df['was_clicked'].astype(int)\n",
    "df['is_netflix_original'] = df['is_netflix_original'].astype(int)\n",
    "df['content_warning'] = df['content_warning'].astype(int)"
   ]
  },
  {
   "cell_type": "code",
   "execution_count": 66,
   "id": "2977f243-bd07-4ca8-b7ec-a56789bd2dac",
   "metadata": {},
   "outputs": [],
   "source": [
    "from sklearn.tree import DecisionTreeClassifier\n",
    "model1=DecisionTreeClassifier()\n",
    "from sklearn.model_selection import train_test_split\n",
    "X=df[['user_id','movie_id','recommendation_type','recommendation_score','position_in_list','content_type',\n",
    "      'genre_primary','release_year','duration_minutes','rating_x','language','imdb_rating','is_netflix_original','content_warning']]\n",
    "y=df['was_clicked']\n",
    "X_train,X_test,y_train,y_test=train_test_split(X,y,test_size=0.3,random_state=42)"
   ]
  },
  {
   "cell_type": "code",
   "execution_count": 67,
   "id": "3dfc1cf1-6ac2-485f-9a9f-7f444f489954",
   "metadata": {},
   "outputs": [
    {
     "name": "stdout",
     "output_type": "stream",
     "text": [
      "Accuracy score: 0.7598420485820271\n"
     ]
    }
   ],
   "source": [
    "model1.fit(X_train,y_train)\n",
    "y_pred=model1.predict(X_test)\n",
    "from sklearn.metrics import accuracy_score\n",
    "print(\"Accuracy score:\",accuracy_score(y_test,y_pred))"
   ]
  },
  {
   "cell_type": "code",
   "execution_count": 23,
   "id": "d6014fc5-1d2a-4289-a172-7089bbfb5de6",
   "metadata": {},
   "outputs": [],
   "source": [
    "def recommend_for_user(user_id_raw, model, df, movies_df, encoders, top_n=10):\n",
    "    \"\"\"\n",
    "    Recommends movies for a user that they haven't been recommended before.\n",
    "    \"\"\"\n",
    "    # Use the specific encoder for user_id from the dictionary\n",
    "    user_encoder = encoders['user_id']\n",
    "\n",
    "    # Step 1: Encode the raw user_id string to its integer representation\n",
    "    if str(user_id_raw) not in user_encoder.classes_:\n",
    "        print(f\"User ID '{user_id_raw}' not found in training data.\")\n",
    "        return pd.DataFrame()\n",
    "\n",
    "    user_id_encoded = user_encoder.transform([str(user_id_raw)])[0]\n",
    "\n",
    "    # Step 2: Find movies the user has already seen\n",
    "    seen = df[df['user_id'] == user_id_encoded]['movie_id'].unique()\n",
    "\n",
    "    # Step 3: Filter out seen movies\n",
    "    df_candidates = df[~df['movie_id'].isin(seen)].copy()\n",
    "    df_candidates['user_id'] = user_id_encoded  # simulate user context\n",
    "\n",
    "    # Step 4: Prepare feature matrix\n",
    "    X_cand = df_candidates[['user_id','movie_id','recommendation_type','recommendation_score','position_in_list',\n",
    "                            'content_type','genre_primary','release_year','duration_minutes','rating_x',\n",
    "                            'language','imdb_rating','is_netflix_original','content_warning']]\n",
    "\n",
    "    # Step 5: Predict click probability\n",
    "    df_candidates['click_prob'] = model.predict_proba(X_cand)[:, 1]\n",
    "\n",
    "    # Step 6: Return top recommendations\n",
    "    return df_candidates.sort_values(by='click_prob', ascending=False).head(top_n)[['title', 'movie_id', 'click_prob']]"
   ]
  },
  {
   "cell_type": "code",
   "execution_count": 30,
   "id": "86d5b0e1-9af7-4214-a88d-e3a20e5cbabd",
   "metadata": {},
   "outputs": [
    {
     "name": "stdout",
     "output_type": "stream",
     "text": [
      "                  title  movie_id  click_prob\n",
      "55697  Princess Kingdom       209         1.0\n",
      "55696  Princess Kingdom       209         1.0\n",
      "17517     Queen Warrior       733         1.0\n",
      "4258         Night Love       150         1.0\n",
      "4259         Night Love       150         1.0\n",
      "13505       Empire Love       759         1.0\n",
      "26125        City Queen        92         1.0\n",
      "10932       Phoenix Ice       655         1.0\n",
      "19095    Family Journey       852         1.0\n",
      "23904         New Dream       488         1.0\n"
     ]
    }
   ],
   "source": [
    "top_recs = recommend_for_user('user_03535', model1, df, movies, encoders)\n",
    "print(top_recs)"
   ]
  },
  {
   "cell_type": "code",
   "execution_count": 25,
   "id": "b8d13ad3-4aca-43a9-ae47-a77b798b2e51",
   "metadata": {},
   "outputs": [],
   "source": [
    "movies=pd.read_csv(\"D:\\\\ML\\\\DATASSETS\\\\jayanth_datasets\\\\movies.csv\")"
   ]
  },
  {
   "cell_type": "code",
   "execution_count": 27,
   "id": "1a59e4b5-e55c-4e0c-9a13-20b7b10d484b",
   "metadata": {},
   "outputs": [
    {
     "data": {
      "text/html": [
       "<div>\n",
       "<style scoped>\n",
       "    .dataframe tbody tr th:only-of-type {\n",
       "        vertical-align: middle;\n",
       "    }\n",
       "\n",
       "    .dataframe tbody tr th {\n",
       "        vertical-align: top;\n",
       "    }\n",
       "\n",
       "    .dataframe thead th {\n",
       "        text-align: right;\n",
       "    }\n",
       "</style>\n",
       "<table border=\"1\" class=\"dataframe\">\n",
       "  <thead>\n",
       "    <tr style=\"text-align: right;\">\n",
       "      <th></th>\n",
       "      <th>Unnamed: 0</th>\n",
       "      <th>recommendation_id</th>\n",
       "      <th>user_id</th>\n",
       "      <th>movie_id</th>\n",
       "      <th>recommendation_type</th>\n",
       "      <th>recommendation_score</th>\n",
       "      <th>was_clicked</th>\n",
       "      <th>position_in_list</th>\n",
       "      <th>title</th>\n",
       "      <th>content_type</th>\n",
       "      <th>...</th>\n",
       "      <th>rating_x</th>\n",
       "      <th>language</th>\n",
       "      <th>country_of_origin</th>\n",
       "      <th>imdb_rating</th>\n",
       "      <th>is_netflix_original</th>\n",
       "      <th>added_to_platform</th>\n",
       "      <th>content_warning</th>\n",
       "      <th>country</th>\n",
       "      <th>city</th>\n",
       "      <th>user_id_raw</th>\n",
       "    </tr>\n",
       "  </thead>\n",
       "  <tbody>\n",
       "    <tr>\n",
       "      <th>0</th>\n",
       "      <td>0</td>\n",
       "      <td>0</td>\n",
       "      <td>6273</td>\n",
       "      <td>770</td>\n",
       "      <td>1</td>\n",
       "      <td>0.553</td>\n",
       "      <td>0</td>\n",
       "      <td>10</td>\n",
       "      <td>First Quest</td>\n",
       "      <td>3</td>\n",
       "      <td>...</td>\n",
       "      <td>1</td>\n",
       "      <td>0</td>\n",
       "      <td>USA</td>\n",
       "      <td>7.2</td>\n",
       "      <td>0</td>\n",
       "      <td>2024-07-26</td>\n",
       "      <td>0</td>\n",
       "      <td>Canada</td>\n",
       "      <td>West Kerri</td>\n",
       "      <td>user_06326</td>\n",
       "    </tr>\n",
       "    <tr>\n",
       "      <th>1</th>\n",
       "      <td>1</td>\n",
       "      <td>1</td>\n",
       "      <td>2158</td>\n",
       "      <td>984</td>\n",
       "      <td>0</td>\n",
       "      <td>0.916</td>\n",
       "      <td>0</td>\n",
       "      <td>9</td>\n",
       "      <td>Queen Night</td>\n",
       "      <td>0</td>\n",
       "      <td>...</td>\n",
       "      <td>5</td>\n",
       "      <td>1</td>\n",
       "      <td>France</td>\n",
       "      <td>7.7</td>\n",
       "      <td>0</td>\n",
       "      <td>2024-01-21</td>\n",
       "      <td>0</td>\n",
       "      <td>USA</td>\n",
       "      <td>Olsonberg</td>\n",
       "      <td>user_02180</td>\n",
       "    </tr>\n",
       "    <tr>\n",
       "      <th>2</th>\n",
       "      <td>2</td>\n",
       "      <td>2</td>\n",
       "      <td>3508</td>\n",
       "      <td>833</td>\n",
       "      <td>2</td>\n",
       "      <td>0.816</td>\n",
       "      <td>0</td>\n",
       "      <td>2</td>\n",
       "      <td>The Mission</td>\n",
       "      <td>4</td>\n",
       "      <td>...</td>\n",
       "      <td>5</td>\n",
       "      <td>5</td>\n",
       "      <td>USA</td>\n",
       "      <td>7.1</td>\n",
       "      <td>0</td>\n",
       "      <td>2024-01-22</td>\n",
       "      <td>0</td>\n",
       "      <td>Canada</td>\n",
       "      <td>Gailport</td>\n",
       "      <td>user_03535</td>\n",
       "    </tr>\n",
       "    <tr>\n",
       "      <th>3</th>\n",
       "      <td>3</td>\n",
       "      <td>3</td>\n",
       "      <td>4989</td>\n",
       "      <td>717</td>\n",
       "      <td>4</td>\n",
       "      <td>0.771</td>\n",
       "      <td>0</td>\n",
       "      <td>16</td>\n",
       "      <td>Mystery Dream</td>\n",
       "      <td>4</td>\n",
       "      <td>...</td>\n",
       "      <td>7</td>\n",
       "      <td>1</td>\n",
       "      <td>USA</td>\n",
       "      <td>7.0</td>\n",
       "      <td>0</td>\n",
       "      <td>2025-04-22</td>\n",
       "      <td>0</td>\n",
       "      <td>USA</td>\n",
       "      <td>Lake Bradleystad</td>\n",
       "      <td>user_05025</td>\n",
       "    </tr>\n",
       "    <tr>\n",
       "      <th>4</th>\n",
       "      <td>4</td>\n",
       "      <td>4</td>\n",
       "      <td>6738</td>\n",
       "      <td>717</td>\n",
       "      <td>3</td>\n",
       "      <td>0.251</td>\n",
       "      <td>0</td>\n",
       "      <td>9</td>\n",
       "      <td>Mystery Dream</td>\n",
       "      <td>4</td>\n",
       "      <td>...</td>\n",
       "      <td>7</td>\n",
       "      <td>1</td>\n",
       "      <td>USA</td>\n",
       "      <td>7.0</td>\n",
       "      <td>0</td>\n",
       "      <td>2025-04-22</td>\n",
       "      <td>0</td>\n",
       "      <td>USA</td>\n",
       "      <td>New Raymond</td>\n",
       "      <td>user_06794</td>\n",
       "    </tr>\n",
       "    <tr>\n",
       "      <th>...</th>\n",
       "      <td>...</td>\n",
       "      <td>...</td>\n",
       "      <td>...</td>\n",
       "      <td>...</td>\n",
       "      <td>...</td>\n",
       "      <td>...</td>\n",
       "      <td>...</td>\n",
       "      <td>...</td>\n",
       "      <td>...</td>\n",
       "      <td>...</td>\n",
       "      <td>...</td>\n",
       "      <td>...</td>\n",
       "      <td>...</td>\n",
       "      <td>...</td>\n",
       "      <td>...</td>\n",
       "      <td>...</td>\n",
       "      <td>...</td>\n",
       "      <td>...</td>\n",
       "      <td>...</td>\n",
       "      <td>...</td>\n",
       "      <td>...</td>\n",
       "    </tr>\n",
       "    <tr>\n",
       "      <th>55708</th>\n",
       "      <td>55708</td>\n",
       "      <td>26667</td>\n",
       "      <td>1376</td>\n",
       "      <td>170</td>\n",
       "      <td>1</td>\n",
       "      <td>0.126</td>\n",
       "      <td>0</td>\n",
       "      <td>11</td>\n",
       "      <td>Dream Warrior</td>\n",
       "      <td>2</td>\n",
       "      <td>...</td>\n",
       "      <td>5</td>\n",
       "      <td>0</td>\n",
       "      <td>USA</td>\n",
       "      <td>1.4</td>\n",
       "      <td>0</td>\n",
       "      <td>2021-05-21</td>\n",
       "      <td>0</td>\n",
       "      <td>USA</td>\n",
       "      <td>Scottport</td>\n",
       "      <td>user_01387</td>\n",
       "    </tr>\n",
       "    <tr>\n",
       "      <th>55709</th>\n",
       "      <td>55709</td>\n",
       "      <td>4379</td>\n",
       "      <td>9241</td>\n",
       "      <td>429</td>\n",
       "      <td>3</td>\n",
       "      <td>0.192</td>\n",
       "      <td>0</td>\n",
       "      <td>13</td>\n",
       "      <td>Dragon Princess</td>\n",
       "      <td>2</td>\n",
       "      <td>...</td>\n",
       "      <td>9</td>\n",
       "      <td>0</td>\n",
       "      <td>USA</td>\n",
       "      <td>5.2</td>\n",
       "      <td>0</td>\n",
       "      <td>2021-03-02</td>\n",
       "      <td>1</td>\n",
       "      <td>USA</td>\n",
       "      <td>Carpenterville</td>\n",
       "      <td>user_09314</td>\n",
       "    </tr>\n",
       "    <tr>\n",
       "      <th>55710</th>\n",
       "      <td>55710</td>\n",
       "      <td>22274</td>\n",
       "      <td>2630</td>\n",
       "      <td>943</td>\n",
       "      <td>4</td>\n",
       "      <td>0.283</td>\n",
       "      <td>0</td>\n",
       "      <td>11</td>\n",
       "      <td>Dark Love</td>\n",
       "      <td>2</td>\n",
       "      <td>...</td>\n",
       "      <td>0</td>\n",
       "      <td>0</td>\n",
       "      <td>Japan</td>\n",
       "      <td>8.3</td>\n",
       "      <td>0</td>\n",
       "      <td>2023-07-21</td>\n",
       "      <td>0</td>\n",
       "      <td>USA</td>\n",
       "      <td>North Laura</td>\n",
       "      <td>user_02654</td>\n",
       "    </tr>\n",
       "    <tr>\n",
       "      <th>55711</th>\n",
       "      <td>55711</td>\n",
       "      <td>15451</td>\n",
       "      <td>4649</td>\n",
       "      <td>247</td>\n",
       "      <td>0</td>\n",
       "      <td>0.217</td>\n",
       "      <td>1</td>\n",
       "      <td>2</td>\n",
       "      <td>Love Storm</td>\n",
       "      <td>4</td>\n",
       "      <td>...</td>\n",
       "      <td>8</td>\n",
       "      <td>7</td>\n",
       "      <td>Japan</td>\n",
       "      <td>7.0</td>\n",
       "      <td>0</td>\n",
       "      <td>2024-02-13</td>\n",
       "      <td>0</td>\n",
       "      <td>USA</td>\n",
       "      <td>Watkinshaven</td>\n",
       "      <td>user_04683</td>\n",
       "    </tr>\n",
       "    <tr>\n",
       "      <th>55712</th>\n",
       "      <td>55712</td>\n",
       "      <td>48649</td>\n",
       "      <td>4513</td>\n",
       "      <td>287</td>\n",
       "      <td>1</td>\n",
       "      <td>0.553</td>\n",
       "      <td>0</td>\n",
       "      <td>16</td>\n",
       "      <td>Mystery Adventure</td>\n",
       "      <td>3</td>\n",
       "      <td>...</td>\n",
       "      <td>2</td>\n",
       "      <td>2</td>\n",
       "      <td>USA</td>\n",
       "      <td>5.8</td>\n",
       "      <td>1</td>\n",
       "      <td>2021-02-24</td>\n",
       "      <td>0</td>\n",
       "      <td>Canada</td>\n",
       "      <td>New Warren</td>\n",
       "      <td>user_04546</td>\n",
       "    </tr>\n",
       "  </tbody>\n",
       "</table>\n",
       "<p>55713 rows × 23 columns</p>\n",
       "</div>"
      ],
      "text/plain": [
       "       Unnamed: 0  recommendation_id  user_id  movie_id  recommendation_type  \\\n",
       "0               0                  0     6273       770                    1   \n",
       "1               1                  1     2158       984                    0   \n",
       "2               2                  2     3508       833                    2   \n",
       "3               3                  3     4989       717                    4   \n",
       "4               4                  4     6738       717                    3   \n",
       "...           ...                ...      ...       ...                  ...   \n",
       "55708       55708              26667     1376       170                    1   \n",
       "55709       55709               4379     9241       429                    3   \n",
       "55710       55710              22274     2630       943                    4   \n",
       "55711       55711              15451     4649       247                    0   \n",
       "55712       55712              48649     4513       287                    1   \n",
       "\n",
       "       recommendation_score  was_clicked  position_in_list              title  \\\n",
       "0                     0.553            0                10        First Quest   \n",
       "1                     0.916            0                 9        Queen Night   \n",
       "2                     0.816            0                 2        The Mission   \n",
       "3                     0.771            0                16      Mystery Dream   \n",
       "4                     0.251            0                 9      Mystery Dream   \n",
       "...                     ...          ...               ...                ...   \n",
       "55708                 0.126            0                11      Dream Warrior   \n",
       "55709                 0.192            0                13    Dragon Princess   \n",
       "55710                 0.283            0                11          Dark Love   \n",
       "55711                 0.217            1                 2         Love Storm   \n",
       "55712                 0.553            0                16  Mystery Adventure   \n",
       "\n",
       "       content_type  ...  rating_x  language  country_of_origin  imdb_rating  \\\n",
       "0                 3  ...         1         0                USA          7.2   \n",
       "1                 0  ...         5         1             France          7.7   \n",
       "2                 4  ...         5         5                USA          7.1   \n",
       "3                 4  ...         7         1                USA          7.0   \n",
       "4                 4  ...         7         1                USA          7.0   \n",
       "...             ...  ...       ...       ...                ...          ...   \n",
       "55708             2  ...         5         0                USA          1.4   \n",
       "55709             2  ...         9         0                USA          5.2   \n",
       "55710             2  ...         0         0              Japan          8.3   \n",
       "55711             4  ...         8         7              Japan          7.0   \n",
       "55712             3  ...         2         2                USA          5.8   \n",
       "\n",
       "       is_netflix_original added_to_platform  content_warning  country  \\\n",
       "0                        0        2024-07-26                0   Canada   \n",
       "1                        0        2024-01-21                0      USA   \n",
       "2                        0        2024-01-22                0   Canada   \n",
       "3                        0        2025-04-22                0      USA   \n",
       "4                        0        2025-04-22                0      USA   \n",
       "...                    ...               ...              ...      ...   \n",
       "55708                    0        2021-05-21                0      USA   \n",
       "55709                    0        2021-03-02                1      USA   \n",
       "55710                    0        2023-07-21                0      USA   \n",
       "55711                    0        2024-02-13                0      USA   \n",
       "55712                    1        2021-02-24                0   Canada   \n",
       "\n",
       "                   city  user_id_raw  \n",
       "0            West Kerri   user_06326  \n",
       "1             Olsonberg   user_02180  \n",
       "2              Gailport   user_03535  \n",
       "3      Lake Bradleystad   user_05025  \n",
       "4           New Raymond   user_06794  \n",
       "...                 ...          ...  \n",
       "55708         Scottport   user_01387  \n",
       "55709    Carpenterville   user_09314  \n",
       "55710       North Laura   user_02654  \n",
       "55711      Watkinshaven   user_04683  \n",
       "55712        New Warren   user_04546  \n",
       "\n",
       "[55713 rows x 23 columns]"
      ]
     },
     "execution_count": 27,
     "metadata": {},
     "output_type": "execute_result"
    }
   ],
   "source": [
    "df"
   ]
  },
  {
   "cell_type": "code",
   "execution_count": 39,
   "id": "96e3200f-3ebe-4b50-9e9a-72208a8e9cf7",
   "metadata": {},
   "outputs": [],
   "source": [
    "importances=model1.feature_importances_\n",
    "feature_names=['user_id','movie_id','recommendation_type','recommendation_score','position_in_list','content_type',\n",
    "      'genre_primary','release_year','duration_minutes','rating_x','language','imdb_rating','is_netflix_original','content_warning']"
   ]
  },
  {
   "cell_type": "code",
   "execution_count": 45,
   "id": "546ad799-4437-4b73-a757-a2ae48d61e2b",
   "metadata": {},
   "outputs": [
    {
     "data": {
      "image/png": "[encoded data removed]",
      "text/plain": [
       "<Figure size 1400x600 with 1 Axes>"
      ]
     },
     "metadata": {},
     "output_type": "display_data"
    }
   ],
   "source": [
    "import matplotlib.pyplot as plt\n",
    "\n",
    "features = feature_names\n",
    "importances = importances  \n",
    "plt.figure(figsize=(14, 6)) \n",
    "plt.bar(features, importances, color='skyblue')\n",
    "plt.xlabel(\"Features\")\n",
    "plt.ylabel(\"Importances\")\n",
    "plt.title(\"Feature Importances\")\n",
    "\n",
    "# Rotate x-axis labels for readability\n",
    "plt.xticks(rotation=45, ha='right')\n",
    "\n",
    "plt.tight_layout()\n",
    "plt.show()"
   ]
  },
  {
   "cell_type": "code",
   "execution_count": 46,
   "id": "4a1c97fd-ff7e-4244-95a2-d71b1826b00e",
   "metadata": {},
   "outputs": [
    {
     "data": {
      "text/plain": [
       "array([0.22443005, 0.07524268, 0.06667041, 0.20028687, 0.10532561,\n",
       "       0.0199611 , 0.05054201, 0.05051836, 0.0675743 , 0.04264938,\n",
       "       0.02512733, 0.05625166, 0.00965485, 0.00576539])"
      ]
     },
     "execution_count": 46,
     "metadata": {},
     "output_type": "execute_result"
    }
   ],
   "source": [
    "model1.feature_importances_"
   ]
  },
  {
   "cell_type": "code",
   "execution_count": 68,
   "id": "fbeafeb1-3d11-4c41-865f-6f9bf3cf8595",
   "metadata": {},
   "outputs": [
    {
     "name": "stdout",
     "output_type": "stream",
     "text": [
      "Accuracy for Randomforestclassifier: 0.8611343783654422\n"
     ]
    }
   ],
   "source": [
    "from sklearn.ensemble import RandomForestClassifier\n",
    "model2=RandomForestClassifier(n_estimators=100,random_state=42)\n",
    "model2.fit(X_train,y_train)\n",
    "y_pred=model2.predict(X_test)\n",
    "from sklearn.metrics import accuracy_score\n",
    "print(\"Accuracy for Randomforestclassifier:\",accuracy_score(y_test,y_pred))"
   ]
  },
  {
   "cell_type": "code",
   "execution_count": 73,
   "id": "ae88ccb9-cf16-4adf-b00b-fb26000bb186",
   "metadata": {},
   "outputs": [],
   "source": [
    "importances=model2.feature_importances_"
   ]
  },
  {
   "cell_type": "code",
   "execution_count": 76,
   "id": "ff5b72a8-131e-4caa-93c0-50a932411645",
   "metadata": {},
   "outputs": [
    {
     "data": {
      "image/png": "[encoded data removed]",
      "text/plain": [
       "<Figure size 1400x600 with 1 Axes>"
      ]
     },
     "metadata": {},
     "output_type": "display_data"
    }
   ],
   "source": [
    "import matplotlib.pyplot as plt\n",
    "\n",
    "feature2 = feature_names\n",
    "importance2 = importances  \n",
    "plt.figure(figsize=(14, 6)) \n",
    "plt.bar(feature2, importance2, color='skyblue')\n",
    "plt.xlabel(\"Features\")\n",
    "plt.ylabel(\"Importances\")\n",
    "plt.title(\"Feature Importances\")\n",
    "\n",
    "# Rotate x-axis labels for readability\n",
    "plt.xticks(rotation=45, ha='right')\n",
    "\n",
    "plt.tight_layout()\n",
    "plt.show()"
   ]
  },
  {
   "cell_type": "code",
   "execution_count": 80,
   "id": "b815f510-a2d7-42e7-848c-417c92aa8d3d",
   "metadata": {},
   "outputs": [
    {
     "name": "stdout",
     "output_type": "stream",
     "text": [
      "Accuracy for knn: 0.856347971760201\n"
     ]
    }
   ],
   "source": [
    "from sklearn.neighbors import KNeighborsClassifier\n",
    "model3=KNeighborsClassifier(n_neighbors=10,weights='distance')\n",
    "model3.fit(X_train,y_train)\n",
    "y_pred=model3.predict(X_test)\n",
    "print(\"Accuracy for knn:\",accuracy_score(y_test,y_pred))"
   ]
  },
  {
   "cell_type": "code",
   "execution_count": 77,
   "id": "ce209695-4d4d-4b1f-ac19-41ef5efb7fa8",
   "metadata": {},
   "outputs": [],
   "source": [
    "def recommend_for_user(user_id_raw, model, df, movies_df, encoders, top_n=10):\n",
    "    \"\"\"\n",
    "    Recommends movies for a user that they haven't been recommended before.\n",
    "    \"\"\"\n",
    "    # Use the specific encoder for user_id from the dictionary\n",
    "    user_encoder = encoders['user_id']\n",
    "\n",
    "    # Step 1: Encode the raw user_id string to its integer representation\n",
    "    if str(user_id_raw) not in user_encoder.classes_:\n",
    "        print(f\"User ID '{user_id_raw}' not found in training data.\")\n",
    "        return pd.DataFrame()\n",
    "\n",
    "    user_id_encoded = user_encoder.transform([str(user_id_raw)])[0]\n",
    "\n",
    "    # Step 2: Find movies the user has already seen\n",
    "    seen = df[df['user_id'] == user_id_encoded]['movie_id'].unique()\n",
    "\n",
    "    # Step 3: Filter out seen movies\n",
    "    df_candidates = df[~df['movie_id'].isin(seen)].copy()\n",
    "    df_candidates['user_id'] = user_id_encoded  # simulate user context\n",
    "\n",
    "    # Step 4: Prepare feature matrix\n",
    "    X_cand = df_candidates[['user_id','movie_id','recommendation_type','recommendation_score','position_in_list',\n",
    "                            'content_type','genre_primary','release_year','duration_minutes','rating_x',\n",
    "                            'language','imdb_rating','is_netflix_original','content_warning']]\n",
    "\n",
    "    # Step 5: Predict click probability\n",
    "    df_candidates['click_prob'] = model.predict_proba(X_cand)[:, 1]\n",
    "\n",
    "    # Step 6: Return top recommendations\n",
    "    return df_candidates.sort_values(by='click_prob', ascending=False).head(top_n)[['title', 'movie_id', 'click_prob']]"
   ]
  },
  {
   "cell_type": "code",
   "execution_count": 78,
   "id": "2fad314e-38b3-4e4c-a5e5-249ef792241c",
   "metadata": {},
   "outputs": [
    {
     "name": "stdout",
     "output_type": "stream",
     "text": [
      "               title  movie_id  click_prob\n",
      "55514     War Battle       979        0.96\n",
      "21514     War Battle       979        0.96\n",
      "21513     War Battle       979        0.96\n",
      "55515     War Battle       979        0.96\n",
      "48193    War Phoenix       633        0.94\n",
      "48192    War Phoenix       633        0.94\n",
      "10510     Family Ice       206        0.93\n",
      "53831     Family Ice       206        0.93\n",
      "12715  Princess Love        34        0.93\n",
      "10509     Family Ice       206        0.93\n"
     ]
    }
   ],
   "source": [
    "top_recs = recommend_for_user('user_03535', model2, df, movies, encoders)\n",
    "print(top_recs)"
   ]
  },
  {
   "cell_type": "code",
   "execution_count": 81,
   "id": "5fa13e79-168e-4ba4-aaa2-5a33c34d99e8",
   "metadata": {},
   "outputs": [
    {
     "name": "stdout",
     "output_type": "stream",
     "text": [
      "             title  movie_id  click_prob\n",
      "36174  Bright Love       952    0.740627\n",
      "10105  Bright Love       952    0.730747\n",
      "25162  Bright Love       952    0.718072\n",
      "14545  Bright Love       952    0.699805\n",
      "32099  Bright Love       952    0.670020\n",
      "4004   Bright Love       952    0.657273\n",
      "20508  Bright Love       952    0.655319\n",
      "14287  Bright Love       952    0.623680\n",
      "12021  First Storm       896    0.623520\n",
      "54077  First Storm       896    0.623200\n"
     ]
    }
   ],
   "source": [
    "top_recs = recommend_for_user('user_03535', model3, df, movies, encoders)\n",
    "print(top_recs)"
   ]
  },
  {
   "cell_type": "code",
   "execution_count": 82,
   "id": "99005f51-04f5-4334-b93c-9de15cc8e147",
   "metadata": {},
   "outputs": [],
   "source": [
    "def recommend_for_user(user_id_raw, model, df, movies_df, encoders, top_n=10):\n",
    "    \"\"\"\n",
    "    Recommend top-N unique movies for a given user based on predicted click probability.\n",
    "    Removes duplicate movie_id entries and keeps the highest scoring one.\n",
    "    \"\"\"\n",
    "    # Step 1: Encode user_id using stored encoder\n",
    "    user_encoder = encoders['user_id']\n",
    "    if str(user_id_raw) not in user_encoder.classes_:\n",
    "        print(f\"User ID '{user_id_raw}' not found in training data.\")\n",
    "        return pd.DataFrame()\n",
    "\n",
    "    user_id_encoded = user_encoder.transform([str(user_id_raw)])[0]\n",
    "\n",
    "    # Step 2: Filter out movies already seen by the user\n",
    "    seen = df[df['user_id'] == user_id_encoded]['movie_id'].unique()\n",
    "    df_candidates = df[~df['movie_id'].isin(seen)].copy()\n",
    "    df_candidates['user_id'] = user_id_encoded  # simulate user context\n",
    "\n",
    "    # Step 3: Prepare feature matrix for prediction\n",
    "    feature_cols = ['user_id','movie_id','recommendation_type','recommendation_score','position_in_list',\n",
    "                    'content_type','genre_primary','release_year','duration_minutes','rating_x',\n",
    "                    'language','imdb_rating','is_netflix_original','content_warning']\n",
    "    X_cand = df_candidates[feature_cols]\n",
    "\n",
    "    # Step 4: Predict click probabilities\n",
    "    df_candidates['click_prob'] = model.predict_proba(X_cand)[:, 1]\n",
    "\n",
    "    # Step 5: Remove duplicate movie_id entries, keep highest scoring one\n",
    "    df_top = df_candidates.sort_values(by='click_prob', ascending=False)\n",
    "    df_unique = df_top.drop_duplicates(subset='movie_id', keep='first')\n",
    "\n",
    "    # Step 6: Merge with movie titles if needed\n",
    "    if 'title' not in df_unique.columns and 'movie_id' in movies_df.columns:\n",
    "        df_unique = df_unique.merge(movies_df[['movie_id', 'title']], on='movie_id', how='left')\n",
    "\n",
    "    # Step 7: Return top-N recommendations\n",
    "    return df_unique[['title', 'movie_id', 'click_prob']].head(top_n)"
   ]
  },
  {
   "cell_type": "code",
   "execution_count": 86,
   "id": "cce3facf-83ae-4131-95ab-6c61f4b92741",
   "metadata": {},
   "outputs": [
    {
     "name": "stdout",
     "output_type": "stream",
     "text": [
      "                  title  movie_id  click_prob\n",
      "55514        War Battle       979        0.96\n",
      "48193       War Phoenix       633        0.94\n",
      "10510        Family Ice       206        0.93\n",
      "12715     Princess Love        34        0.93\n",
      "54264  Kingdom Princess       708        0.91\n",
      "36085   Quest Adventure       347        0.89\n",
      "53568     Mystery Quest       806        0.88\n",
      "54287         The Storm       326        0.88\n",
      "55337         My Dragon       762        0.87\n",
      "767       Story Warrior       919        0.87\n"
     ]
    }
   ],
   "source": [
    "top_recs = recommend_for_user('user_03535', model2, df, movies, encoders, top_n=10)\n",
    "print(top_recs)"
   ]
  },
  {
   "cell_type": "code",
   "execution_count": null,
   "id": "e2a5df59-6b30-4afd-8caa-3eb80349afaf",
   "metadata": {},
   "outputs": [],
   "source": []
  }
 ],
 "metadata": {
  "kernelspec": {
   "display_name": "Python 3 (ipykernel)",
   "language": "python",
   "name": "python3"
  },
  "language_info": {
   "codemirror_mode": {
    "name": "ipython",
    "version": 3
   },
   "file_extension": ".py",
   "mimetype": "text/x-python",
   "name": "python",
   "nbconvert_exporter": "python",
   "pygments_lexer": "ipython3",
   "version": "3.13.7"
  }
 },
 "nbformat": 4,
 "nbformat_minor": 5
}
